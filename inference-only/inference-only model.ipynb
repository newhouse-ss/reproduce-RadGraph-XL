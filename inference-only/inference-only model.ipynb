{
 "cells": [
  {
   "cell_type": "code",
   "execution_count": 1,
   "id": "5dc88cf5",
   "metadata": {},
   "outputs": [
    {
     "name": "stdout",
     "output_type": "stream",
     "text": [
      "Collecting radgraph\n",
      "  Downloading radgraph-0.1.18.tar.gz (587 kB)\n",
      "     ---------------------------------------- 0.0/588.0 kB ? eta -:--:--\n",
      "     ------------------------------------- 588.0/588.0 kB 10.2 MB/s eta 0:00:00\n",
      "  Preparing metadata (setup.py): started\n",
      "  Preparing metadata (setup.py): finished with status 'done'\n",
      "Requirement already satisfied: torch>=2.1.0 in d:\\python\\anaconda\\envs\\pytorch_cpu\\lib\\site-packages (from radgraph) (2.5.1)\n",
      "Collecting transformers>=4.39.0 (from radgraph)\n",
      "  Downloading transformers-4.57.1-py3-none-any.whl.metadata (43 kB)\n",
      "Collecting appdirs (from radgraph)\n",
      "  Downloading appdirs-1.4.4-py2.py3-none-any.whl.metadata (9.0 kB)\n",
      "Collecting jsonpickle (from radgraph)\n",
      "  Downloading jsonpickle-4.1.1-py3-none-any.whl.metadata (8.1 kB)\n",
      "Requirement already satisfied: filelock in d:\\python\\anaconda\\envs\\pytorch_cpu\\lib\\site-packages (from radgraph) (3.17.0)\n",
      "Requirement already satisfied: h5py in d:\\python\\anaconda\\envs\\pytorch_cpu\\lib\\site-packages (from radgraph) (3.12.1)\n",
      "Collecting nltk (from radgraph)\n",
      "  Downloading nltk-3.9.2-py3-none-any.whl.metadata (3.2 kB)\n",
      "Collecting dotmap (from radgraph)\n",
      "  Downloading dotmap-1.3.30-py3-none-any.whl.metadata (3.2 kB)\n",
      "Collecting pytest (from radgraph)\n",
      "  Downloading pytest-8.4.2-py3-none-any.whl.metadata (7.7 kB)\n",
      "Requirement already satisfied: typing-extensions>=4.8.0 in d:\\python\\anaconda\\envs\\pytorch_cpu\\lib\\site-packages (from torch>=2.1.0->radgraph) (4.12.2)\n",
      "Requirement already satisfied: setuptools in d:\\python\\anaconda\\envs\\pytorch_cpu\\lib\\site-packages (from torch>=2.1.0->radgraph) (72.1.0)\n",
      "Requirement already satisfied: sympy==1.13.1 in d:\\python\\anaconda\\envs\\pytorch_cpu\\lib\\site-packages (from torch>=2.1.0->radgraph) (1.13.1)\n",
      "Requirement already satisfied: networkx in d:\\python\\anaconda\\envs\\pytorch_cpu\\lib\\site-packages (from torch>=2.1.0->radgraph) (3.4.2)\n",
      "Requirement already satisfied: jinja2 in d:\\python\\anaconda\\envs\\pytorch_cpu\\lib\\site-packages (from torch>=2.1.0->radgraph) (3.1.6)\n",
      "Requirement already satisfied: fsspec in d:\\python\\anaconda\\envs\\pytorch_cpu\\lib\\site-packages (from torch>=2.1.0->radgraph) (2025.3.2)\n",
      "Requirement already satisfied: mpmath<1.4,>=1.1.0 in d:\\python\\anaconda\\envs\\pytorch_cpu\\lib\\site-packages (from sympy==1.13.1->torch>=2.1.0->radgraph) (1.3.0)\n",
      "Collecting huggingface-hub<1.0,>=0.34.0 (from transformers>=4.39.0->radgraph)\n",
      "  Downloading huggingface_hub-0.35.3-py3-none-any.whl.metadata (14 kB)\n",
      "Requirement already satisfied: numpy>=1.17 in d:\\python\\anaconda\\envs\\pytorch_cpu\\lib\\site-packages (from transformers>=4.39.0->radgraph) (1.26.4)\n",
      "Requirement already satisfied: packaging>=20.0 in d:\\python\\anaconda\\envs\\pytorch_cpu\\lib\\site-packages (from transformers>=4.39.0->radgraph) (24.2)\n",
      "Requirement already satisfied: pyyaml>=5.1 in d:\\python\\anaconda\\envs\\pytorch_cpu\\lib\\site-packages (from transformers>=4.39.0->radgraph) (6.0.2)\n",
      "Requirement already satisfied: regex!=2019.12.17 in d:\\python\\anaconda\\envs\\pytorch_cpu\\lib\\site-packages (from transformers>=4.39.0->radgraph) (2024.11.6)\n",
      "Requirement already satisfied: requests in d:\\python\\anaconda\\envs\\pytorch_cpu\\lib\\site-packages (from transformers>=4.39.0->radgraph) (2.32.2)\n",
      "Collecting tokenizers<=0.23.0,>=0.22.0 (from transformers>=4.39.0->radgraph)\n",
      "  Downloading tokenizers-0.22.1-cp39-abi3-win_amd64.whl.metadata (6.9 kB)\n",
      "Collecting safetensors>=0.4.3 (from transformers>=4.39.0->radgraph)\n",
      "  Downloading safetensors-0.6.2-cp38-abi3-win_amd64.whl.metadata (4.1 kB)\n",
      "Requirement already satisfied: tqdm>=4.27 in d:\\python\\anaconda\\envs\\pytorch_cpu\\lib\\site-packages (from transformers>=4.39.0->radgraph) (4.67.1)\n",
      "Collecting click (from nltk->radgraph)\n",
      "  Downloading click-8.3.0-py3-none-any.whl.metadata (2.6 kB)\n",
      "Requirement already satisfied: joblib in d:\\python\\anaconda\\envs\\pytorch_cpu\\lib\\site-packages (from nltk->radgraph) (1.4.2)\n",
      "Requirement already satisfied: colorama>=0.4 in d:\\python\\anaconda\\envs\\pytorch_cpu\\lib\\site-packages (from pytest->radgraph) (0.4.6)\n",
      "Collecting iniconfig>=1 (from pytest->radgraph)\n",
      "  Downloading iniconfig-2.1.0-py3-none-any.whl.metadata (2.7 kB)\n",
      "Collecting pluggy<2,>=1.5 (from pytest->radgraph)\n",
      "  Downloading pluggy-1.6.0-py3-none-any.whl.metadata (4.8 kB)\n",
      "Requirement already satisfied: pygments>=2.7.2 in d:\\python\\anaconda\\envs\\pytorch_cpu\\lib\\site-packages (from pytest->radgraph) (2.15.1)\n",
      "Requirement already satisfied: MarkupSafe>=2.0 in d:\\python\\anaconda\\envs\\pytorch_cpu\\lib\\site-packages (from jinja2->torch>=2.1.0->radgraph) (3.0.2)\n",
      "Requirement already satisfied: charset-normalizer<4,>=2 in d:\\python\\anaconda\\envs\\pytorch_cpu\\lib\\site-packages (from requests->transformers>=4.39.0->radgraph) (3.3.2)\n",
      "Requirement already satisfied: idna<4,>=2.5 in d:\\python\\anaconda\\envs\\pytorch_cpu\\lib\\site-packages (from requests->transformers>=4.39.0->radgraph) (3.7)\n",
      "Requirement already satisfied: urllib3<3,>=1.21.1 in d:\\python\\anaconda\\envs\\pytorch_cpu\\lib\\site-packages (from requests->transformers>=4.39.0->radgraph) (2.3.0)\n",
      "Requirement already satisfied: certifi>=2017.4.17 in d:\\python\\anaconda\\envs\\pytorch_cpu\\lib\\site-packages (from requests->transformers>=4.39.0->radgraph) (2025.4.26)\n",
      "Downloading transformers-4.57.1-py3-none-any.whl (12.0 MB)\n",
      "   ---------------------------------------- 0.0/12.0 MB ? eta -:--:--\n",
      "   ------------- -------------------------- 3.9/12.0 MB 19.5 MB/s eta 0:00:01\n",
      "   --------------------------- ------------ 8.1/12.0 MB 19.3 MB/s eta 0:00:01\n",
      "   ---------------------------------------  11.8/12.0 MB 19.4 MB/s eta 0:00:01\n",
      "   ---------------------------------------- 12.0/12.0 MB 17.9 MB/s eta 0:00:00\n",
      "Downloading appdirs-1.4.4-py2.py3-none-any.whl (9.6 kB)\n",
      "Downloading dotmap-1.3.30-py3-none-any.whl (11 kB)\n",
      "Downloading jsonpickle-4.1.1-py3-none-any.whl (47 kB)\n",
      "Downloading nltk-3.9.2-py3-none-any.whl (1.5 MB)\n",
      "   ---------------------------------------- 0.0/1.5 MB ? eta -:--:--\n",
      "   ---------------------------------------- 1.5/1.5 MB 20.2 MB/s eta 0:00:00\n",
      "Downloading pytest-8.4.2-py3-none-any.whl (365 kB)\n",
      "Downloading huggingface_hub-0.35.3-py3-none-any.whl (564 kB)\n",
      "   ---------------------------------------- 0.0/564.3 kB ? eta -:--:--\n",
      "   ---------------------------------------- 564.3/564.3 kB 9.7 MB/s eta 0:00:00\n",
      "Downloading iniconfig-2.1.0-py3-none-any.whl (6.0 kB)\n",
      "Downloading pluggy-1.6.0-py3-none-any.whl (20 kB)\n",
      "Downloading safetensors-0.6.2-cp38-abi3-win_amd64.whl (320 kB)\n",
      "Downloading tokenizers-0.22.1-cp39-abi3-win_amd64.whl (2.7 MB)\n",
      "   ---------------------------------------- 0.0/2.7 MB ? eta -:--:--\n",
      "   ---------------------------------------- 2.7/2.7 MB 19.3 MB/s eta 0:00:00\n",
      "Downloading click-8.3.0-py3-none-any.whl (107 kB)\n",
      "Building wheels for collected packages: radgraph\n",
      "  Building wheel for radgraph (setup.py): started\n",
      "  Building wheel for radgraph (setup.py): finished with status 'done'\n",
      "  Created wheel for radgraph: filename=radgraph-0.1.18-py3-none-any.whl size=812663 sha256=b4ed84707210994d9564134f2e19c7b2b21a4156572c263514df40105ea2d48d\n",
      "  Stored in directory: c:\\users\\zhy\\appdata\\local\\pip\\cache\\wheels\\fb\\3c\\fb\\214f5d5cdab2a0f9f0904fd81d7fd1134404100b4444554df8\n",
      "Successfully built radgraph\n",
      "Installing collected packages: dotmap, appdirs, safetensors, pluggy, jsonpickle, iniconfig, click, pytest, nltk, huggingface-hub, tokenizers, transformers, radgraph\n",
      "Successfully installed appdirs-1.4.4 click-8.3.0 dotmap-1.3.30 huggingface-hub-0.35.3 iniconfig-2.1.0 jsonpickle-4.1.1 nltk-3.9.2 pluggy-1.6.0 pytest-8.4.2 radgraph-0.1.18 safetensors-0.6.2 tokenizers-0.22.1 transformers-4.57.1\n"
     ]
    }
   ],
   "source": [
    "!pip install radgraph"
   ]
  },
  {
   "cell_type": "code",
   "execution_count": 3,
   "id": "241bd7ce",
   "metadata": {},
   "outputs": [
    {
     "name": "stdout",
     "output_type": "stream",
     "text": [
      "Loading model...\n",
      "Using device: cpu\n"
     ]
    },
    {
     "name": "stderr",
     "output_type": "stream",
     "text": [
      "Xet Storage is enabled for this repo, but the 'hf_xet' package is not installed. Falling back to regular HTTP download. For better performance, install the package with: `pip install huggingface_hub[hf_xet]` or `pip install hf_xet`\n"
     ]
    },
    {
     "data": {
      "application/vnd.jupyter.widget-view+json": {
       "model_id": "5ef854f1235f4d31b8c6b0766fb10c14",
       "version_major": 2,
       "version_minor": 0
      },
      "text/plain": [
       "modern-radgraph-xl.tar.gz:   0%|          | 0.00/579M [00:00<?, ?B/s]"
      ]
     },
     "metadata": {},
     "output_type": "display_data"
    },
    {
     "name": "stderr",
     "output_type": "stream",
     "text": [
      "d:\\Python\\Anaconda\\envs\\pytorch_cpu\\Lib\\site-packages\\huggingface_hub\\file_download.py:143: UserWarning: `huggingface_hub` cache-system uses symlinks by default to efficiently store duplicated files but your machine does not support them in C:\\Users\\zhy\\AppData\\Local\\radgraph\\radgraph\\Cache\\0.1.18\\models--StanfordAIMI--RRG_scorers. Caching files will still work but in a degraded version that might require more space on your disk. This warning can be disabled by setting the `HF_HUB_DISABLE_SYMLINKS_WARNING` environment variable. For more details, see https://huggingface.co/docs/huggingface_hub/how-to-cache#limitations.\n",
      "To support symlinks on Windows, you either need to activate Developer Mode or to run Python as an administrator. In order to activate developer mode, see this article: https://docs.microsoft.com/en-us/windows/apps/get-started/enable-your-device-for-development\n",
      "  warnings.warn(message)\n"
     ]
    },
    {
     "data": {
      "application/vnd.jupyter.widget-view+json": {
       "model_id": "2b8812bd78694b14afff0da394858f43",
       "version_major": 2,
       "version_minor": 0
      },
      "text/plain": [
       "tokenizer_config.json: 0.00B [00:00, ?B/s]"
      ]
     },
     "metadata": {},
     "output_type": "display_data"
    },
    {
     "name": "stderr",
     "output_type": "stream",
     "text": [
      "d:\\Python\\Anaconda\\envs\\pytorch_cpu\\Lib\\site-packages\\huggingface_hub\\file_download.py:143: UserWarning: `huggingface_hub` cache-system uses symlinks by default to efficiently store duplicated files but your machine does not support them in C:\\Users\\zhy\\.cache\\huggingface\\hub\\models--answerdotai--ModernBERT-base. Caching files will still work but in a degraded version that might require more space on your disk. This warning can be disabled by setting the `HF_HUB_DISABLE_SYMLINKS_WARNING` environment variable. For more details, see https://huggingface.co/docs/huggingface_hub/how-to-cache#limitations.\n",
      "To support symlinks on Windows, you either need to activate Developer Mode or to run Python as an administrator. In order to activate developer mode, see this article: https://docs.microsoft.com/en-us/windows/apps/get-started/enable-your-device-for-development\n",
      "  warnings.warn(message)\n"
     ]
    },
    {
     "data": {
      "application/vnd.jupyter.widget-view+json": {
       "model_id": "5c3745da4b014000bbcfec7c958e4f2c",
       "version_major": 2,
       "version_minor": 0
      },
      "text/plain": [
       "tokenizer.json: 0.00B [00:00, ?B/s]"
      ]
     },
     "metadata": {},
     "output_type": "display_data"
    },
    {
     "data": {
      "application/vnd.jupyter.widget-view+json": {
       "model_id": "0da7c25c8c494d009fda561ca7856c92",
       "version_major": 2,
       "version_minor": 0
      },
      "text/plain": [
       "special_tokens_map.json:   0%|          | 0.00/694 [00:00<?, ?B/s]"
      ]
     },
     "metadata": {},
     "output_type": "display_data"
    },
    {
     "data": {
      "application/vnd.jupyter.widget-view+json": {
       "model_id": "48f9cc6d8ddd4b5aa970c1fd10d87933",
       "version_major": 2,
       "version_minor": 0
      },
      "text/plain": [
       "config.json: 0.00B [00:00, ?B/s]"
      ]
     },
     "metadata": {},
     "output_type": "display_data"
    },
    {
     "name": "stdout",
     "output_type": "stream",
     "text": [
      "{\n",
      "    \"0\": {\n",
      "        \"text\": \"No evidence of pneumothorax following chest tube removal .\",\n",
      "        \"entities\": {\n",
      "            \"1\": {\n",
      "                \"tokens\": \"pneumothorax\",\n",
      "                \"label\": \"Observation::definitely absent\",\n",
      "                \"start_ix\": 3,\n",
      "                \"end_ix\": 3,\n",
      "                \"relations\": []\n",
      "            },\n",
      "            \"2\": {\n",
      "                \"tokens\": \"chest\",\n",
      "                \"label\": \"Anatomy::definitely present\",\n",
      "                \"start_ix\": 5,\n",
      "                \"end_ix\": 5,\n",
      "                \"relations\": []\n",
      "            },\n",
      "            \"3\": {\n",
      "                \"tokens\": \"tube\",\n",
      "                \"label\": \"Observation::definitely present\",\n",
      "                \"start_ix\": 6,\n",
      "                \"end_ix\": 6,\n",
      "                \"relations\": [\n",
      "                    [\n",
      "                        \"located_at\",\n",
      "                        \"2\"\n",
      "                    ]\n",
      "                ]\n",
      "            }\n",
      "        },\n",
      "        \"data_source\": null,\n",
      "        \"data_split\": \"inference\"\n",
      "    },\n",
      "    \"1\": {\n",
      "        \"text\": \"unchanged mild pulmonary edema no radiographic evidence pneumonia\",\n",
      "        \"entities\": {\n",
      "            \"1\": {\n",
      "                \"tokens\": \"unchanged\",\n",
      "                \"label\": \"Observation::definitely present\",\n",
      "                \"start_ix\": 0,\n",
      "                \"end_ix\": 0,\n",
      "                \"relations\": [\n",
      "                    [\n",
      "                        \"modify\",\n",
      "                        \"4\"\n",
      "                    ]\n",
      "                ]\n",
      "            },\n",
      "            \"2\": {\n",
      "                \"tokens\": \"mild\",\n",
      "                \"label\": \"Observation::definitely present\",\n",
      "                \"start_ix\": 1,\n",
      "                \"end_ix\": 1,\n",
      "                \"relations\": [\n",
      "                    [\n",
      "                        \"modify\",\n",
      "                        \"4\"\n",
      "                    ]\n",
      "                ]\n",
      "            },\n",
      "            \"3\": {\n",
      "                \"tokens\": \"pulmonary\",\n",
      "                \"label\": \"Anatomy::definitely present\",\n",
      "                \"start_ix\": 2,\n",
      "                \"end_ix\": 2,\n",
      "                \"relations\": []\n",
      "            },\n",
      "            \"4\": {\n",
      "                \"tokens\": \"edema\",\n",
      "                \"label\": \"Observation::definitely present\",\n",
      "                \"start_ix\": 3,\n",
      "                \"end_ix\": 3,\n",
      "                \"relations\": [\n",
      "                    [\n",
      "                        \"located_at\",\n",
      "                        \"3\"\n",
      "                    ]\n",
      "                ]\n",
      "            }\n",
      "        },\n",
      "        \"data_source\": null,\n",
      "        \"data_split\": \"inference\"\n",
      "    },\n",
      "    \"2\": {\n",
      "        \"text\": \"no evidence of acute pulmonary process moderately large size hiatal hernia\",\n",
      "        \"entities\": {\n",
      "            \"1\": {\n",
      "                \"tokens\": \"acute\",\n",
      "                \"label\": \"Observation::definitely absent\",\n",
      "                \"start_ix\": 3,\n",
      "                \"end_ix\": 3,\n",
      "                \"relations\": [\n",
      "                    [\n",
      "                        \"modify\",\n",
      "                        \"3\"\n",
      "                    ]\n",
      "                ]\n",
      "            },\n",
      "            \"2\": {\n",
      "                \"tokens\": \"pulmonary\",\n",
      "                \"label\": \"Anatomy::definitely present\",\n",
      "                \"start_ix\": 4,\n",
      "                \"end_ix\": 4,\n",
      "                \"relations\": []\n",
      "            },\n",
      "            \"3\": {\n",
      "                \"tokens\": \"process\",\n",
      "                \"label\": \"Observation::definitely absent\",\n",
      "                \"start_ix\": 5,\n",
      "                \"end_ix\": 5,\n",
      "                \"relations\": []\n",
      "            }\n",
      "        },\n",
      "        \"data_source\": null,\n",
      "        \"data_split\": \"inference\"\n",
      "    }\n",
      "}\n"
     ]
    }
   ],
   "source": [
    "import json\n",
    "from radgraph import RadGraph\n",
    "\n",
    "print(\"Loading model...\")\n",
    "radgraph = RadGraph(model_type=\"modern-radgraph-xl\")\n",
    "\n",
    "reports = [\n",
    "    \"No evidence of pneumothorax following chest tube removal.\",\n",
    "    \"unchanged mild pulmonary edema no radiographic evidence pneumonia\",\n",
    "    \"no evidence of acute pulmonary process moderately large size hiatal hernia\",\n",
    "]\n",
    "\n",
    "annotations = radgraph(reports)\n",
    "print(json.dumps(annotations, indent=4))"
   ]
  },
  {
   "cell_type": "code",
   "execution_count": null,
   "id": "37af9a18",
   "metadata": {},
   "outputs": [],
   "source": []
  }
 ],
 "metadata": {
  "kernelspec": {
   "display_name": "Python (pytorch_cpu)",
   "language": "python",
   "name": "pytorch_cpu"
  },
  "language_info": {
   "codemirror_mode": {
    "name": "ipython",
    "version": 3
   },
   "file_extension": ".py",
   "mimetype": "text/x-python",
   "name": "python",
   "nbconvert_exporter": "python",
   "pygments_lexer": "ipython3",
   "version": "3.12.3"
  }
 },
 "nbformat": 4,
 "nbformat_minor": 5
}
